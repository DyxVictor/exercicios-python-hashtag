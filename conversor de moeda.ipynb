{
 "cells": [
  {
   "cell_type": "markdown",
   "metadata": {},
   "source": [
    "<div style='text-align: center; font-size: 30px'>\n",
    "    Conversor de moeda\n",
    "</p>"
   ]
  },
  {
   "cell_type": "code",
   "execution_count": 14,
   "metadata": {},
   "outputs": [
    {
     "name": "stdout",
     "output_type": "stream",
     "text": [
      "O valor de 45.00 ficará 8.02 em Dolar\n"
     ]
    }
   ],
   "source": [
    "# Valores pegos do google.com no dia 01/09/2024 as 05:10\n",
    "conversor_de_reais = {'dolar':0.1782, 'euro': 0.1603}\n",
    "conversor_para_reais = {'dolar':5.6107, 'euro':6.2366}\n",
    "tipos = ['de reais', 'para reais']\n",
    "tipo_conversao = input('Você quer converter de reais ou para reais?' )\n",
    "\n",
    "while not tipo_conversao.lower() in tipos:\n",
    "    print('Escolha entre (de reais ou para reais)')\n",
    "    tipo_conversao = input('Você quer converter de reais ou para reais?' )\n",
    "\n",
    "def pegar_valor():\n",
    "    valor = float(input('Qual valor para ser convertido (só os números): '))\n",
    "    return valor\n",
    "\n",
    "def pegar_moeda():\n",
    "    moeda = input('Para qual moeda será convertido?')\n",
    "    return moeda.lower()\n",
    "\n",
    "\n",
    "def para_reais():\n",
    "    moeda = pegar_moeda()\n",
    "    valor = pegar_valor()\n",
    "    valor_convertido = valor * conversor_para_reais[moeda]\n",
    "    print('O valor de {:,.2f} {} ficará R${:,.2f}'.format(valor, moeda.capitalize(),  valor_convertido))\n",
    "\n",
    "def de_reais():\n",
    "    moeda = pegar_moeda()\n",
    "    valor = pegar_valor()\n",
    "    valor_convertido = valor * conversor_de_reais[moeda]\n",
    "    print('O valor de {:,.2f} ficará {:,.2f} em {}'.format(valor, valor_convertido, moeda.capitalize()))\n",
    "\n",
    "if tipo_conversao.lower() == 'para reais':\n",
    "    para_reais()\n",
    "\n",
    "elif tipo_conversao.lower() == 'de reais':\n",
    "    de_reais()\n",
    "\n",
    "# Superestimei... achei que seria dificil também\n",
    "\n",
    "# Valores são aproximados... o google só informa 4 casas após a virgula... tem uma margem de erro por conta disso\n",
    "\n",
    "\n"
   ]
  }
 ],
 "metadata": {
  "kernelspec": {
   "display_name": "Python 3",
   "language": "python",
   "name": "python3"
  },
  "language_info": {
   "codemirror_mode": {
    "name": "ipython",
    "version": 3
   },
   "file_extension": ".py",
   "mimetype": "text/x-python",
   "name": "python",
   "nbconvert_exporter": "python",
   "pygments_lexer": "ipython3",
   "version": "3.12.4"
  }
 },
 "nbformat": 4,
 "nbformat_minor": 2
}
