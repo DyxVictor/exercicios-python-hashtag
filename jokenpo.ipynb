{
 "cells": [
  {
   "cell_type": "code",
   "execution_count": 1,
   "metadata": {},
   "outputs": [
    {
     "name": "stdout",
     "output_type": "stream",
     "text": [
      "Você escolheu: tesoura\n",
      "O computador escolheu: tesoura.\n",
      "Você Empate\n",
      "Você escolheu: tesoura\n",
      "O computador escolheu: pedra.\n",
      "Você Perdeu\n",
      "Você escolheu: tesoura\n",
      "O computador escolheu: papel.\n",
      "Você Ganhou\n"
     ]
    }
   ],
   "source": [
    "# Eu sei que vão reclamar, mas o tanto de def é para treinar\n",
    "\n",
    "import random\n",
    "\n",
    "jokenpo = ['pedra', 'papel', 'tesoura']\n",
    "repete = 'sim'\n",
    "# lista_resultado = []\n",
    "\n",
    "pedra = {'Pedra':'Empate', 'Papel':'Perdeu', 'Tesoura': 'Ganhou'}\n",
    "papel = {'Pedra':'Ganhou', 'Papel':'Empate', 'Tesoura': 'Perdeu'}\n",
    "tesoura = {'Pedra':'Perdeu', 'Papel':'Ganhou', 'Tesoura': 'Empate'}\n",
    "\n",
    "# Não tava funcinando por conta das primeiras letras em maiusculo o capitalize corrigiu isso\n",
    "def comparar_pedra(escolha_computador):\n",
    "    resultado = pedra[str(escolha_computador).capitalize()]\n",
    "    return resultado\n",
    "\n",
    "\n",
    "def comparar_papel(escolha_computador):\n",
    "    resultado = papel[str(escolha_computador).capitalize()]\n",
    "    return resultado\n",
    "\n",
    "\n",
    "def comparar_tesoura(escolha_computador):\n",
    "    resultado = tesoura[str(escolha_computador).capitalize()]\n",
    "    return resultado\n",
    "\n",
    "\n",
    "def escolher_jogada():\n",
    "    escolha_jogador = input('Escolha entre pedra, papel ou tesoura: ')\n",
    "    while not escolha_jogador.lower() in jokenpo:\n",
    "        escolha_jogador = input('Escolha entre pedra, papel ou tesoura: ')\n",
    "    return escolha_jogador\n",
    "\n",
    "\n",
    "def escolher_computador():\n",
    "    escolha = random.choice(jokenpo)\n",
    "    return escolha\n",
    "\n",
    "\n",
    "while repete.lower() == 'sim':\n",
    "    # Deve ter um jeito mais facil que o Dimy talvez consiga me ajudar\n",
    "    escolha_jogador = escolher_jogada()\n",
    "    escolha_computador = escolher_computador()\n",
    "\n",
    "    # comparar_resultado(escolha_jogador, escolha_computador)\n",
    "\n",
    "\n",
    "    if escolha_jogador.lower() == 'pedra':\n",
    "        resultado = comparar_pedra(escolha_computador)\n",
    "\n",
    "    elif escolha_jogador.lower() == 'papel':\n",
    "        resultado = comparar_papel(escolha_computador)\n",
    "\n",
    "    else:\n",
    "        resultado = comparar_tesoura(escolha_computador)\n",
    "\n",
    "    # To muito feliz, consegui fazer funcionar.... 4:42 da manhã!\n",
    "\n",
    "    print('Você escolheu: {}\\nO computador escolheu: {}.'.format(escolha_jogador, escolha_computador))\n",
    "    print('Você {}'.format(resultado))\n",
    "    repete = input('Você quer jogar de novo? ')\n"
   ]
  },
  {
   "cell_type": "markdown",
   "metadata": {},
   "source": [
    "# Não consegui colocar em negrito as respostas....\n",
    "\n",
    "### To ficando maluco.\n",
    "\n",
    "###### Consegui fazer funcionar"
   ]
  }
 ],
 "metadata": {
  "kernelspec": {
   "display_name": "Python 3",
   "language": "python",
   "name": "python3"
  },
  "language_info": {
   "codemirror_mode": {
    "name": "ipython",
    "version": 3
   },
   "file_extension": ".py",
   "mimetype": "text/x-python",
   "name": "python",
   "nbconvert_exporter": "python",
   "pygments_lexer": "ipython3",
   "version": "3.13.0"
  }
 },
 "nbformat": 4,
 "nbformat_minor": 2
}
